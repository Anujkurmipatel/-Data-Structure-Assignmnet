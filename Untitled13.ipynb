{
  "nbformat": 4,
  "nbformat_minor": 0,
  "metadata": {
    "colab": {
      "provenance": [],
      "authorship_tag": "ABX9TyMecvvEd41b8/8JlAYfCNNB",
      "include_colab_link": true
    },
    "kernelspec": {
      "name": "python3",
      "display_name": "Python 3"
    },
    "language_info": {
      "name": "python"
    }
  },
  "cells": [
    {
      "cell_type": "markdown",
      "metadata": {
        "id": "view-in-github",
        "colab_type": "text"
      },
      "source": [
        "<a href=\"https://colab.research.google.com/github/Anujkurmipatel/-Data-Structure-Assignmnet/blob/main/Untitled13.ipynb\" target=\"_parent\"><img src=\"https://colab.research.google.com/assets/colab-badge.svg\" alt=\"Open In Colab\"/></a>"
      ]
    },
    {
      "cell_type": "markdown",
      "source": [
        "**Que1**"
      ],
      "metadata": {
        "id": "gT59zjTwGuDo"
      }
    },
    {
      "cell_type": "code",
      "execution_count": null,
      "metadata": {
        "colab": {
          "base_uri": "https://localhost:8080/"
        },
        "id": "ZPKNtB_vGl8n",
        "outputId": "3537bb80-15b0-4d4c-a77c-f67740ff9ad8"
      },
      "outputs": [
        {
          "output_type": "stream",
          "name": "stdout",
          "text": [
            "Enter the string: anuj kurmi\n",
            "imruk juna\n"
          ]
        }
      ],
      "source": [
        "str_1 = input(\"Enter the string: \")\n",
        "print(str_1[::-1])"
      ]
    },
    {
      "cell_type": "markdown",
      "source": [
        "**que2**"
      ],
      "metadata": {
        "id": "Mme-nojaHen4"
      }
    },
    {
      "cell_type": "code",
      "source": [
        "l1 = ['a','e','i','o','u','A','E','I','O','U']\n",
        "str_2 = input(\"Enter the string: \")\n",
        "count = 0\n",
        "for i in str_2:\n",
        "  if i in l1:\n",
        "    count += 1\n",
        "print(\"Number of vowels are: \",count)"
      ],
      "metadata": {
        "colab": {
          "base_uri": "https://localhost:8080/"
        },
        "id": "qgXRYH3OHg2w",
        "outputId": "1cc5d937-8454-4605-bf11-82557145174a"
      },
      "execution_count": null,
      "outputs": [
        {
          "output_type": "stream",
          "name": "stdout",
          "text": [
            "Enter the string: anuj kurmi\n",
            "Number of vowels are:  4\n"
          ]
        }
      ]
    },
    {
      "cell_type": "markdown",
      "source": [
        "**Que 3**"
      ],
      "metadata": {
        "id": "nny-0aIHIK0x"
      }
    },
    {
      "cell_type": "code",
      "source": [
        "str_3 = input(\"Enter the string 1: \")\n",
        "str_4 = str_3[::-1]\n",
        "if str_3 == str_4:\n",
        "  print(\"Strings are palindrome\")\n",
        "else:\n",
        "  print(\"Strings are not palindrome\")"
      ],
      "metadata": {
        "colab": {
          "base_uri": "https://localhost:8080/"
        },
        "id": "Ar5lTagwIOB2",
        "outputId": "e3ee9eec-63f0-4c24-abe6-8554fd18e867"
      },
      "execution_count": null,
      "outputs": [
        {
          "output_type": "stream",
          "name": "stdout",
          "text": [
            "Enter the string 1: aba\n",
            "Strings are palindrome\n"
          ]
        }
      ]
    },
    {
      "cell_type": "markdown",
      "source": [
        "Que 4"
      ],
      "metadata": {
        "id": "DIB0pQClJjdZ"
      }
    },
    {
      "cell_type": "code",
      "source": [
        "str_5 = input(\"Enter the string 1: \")\n",
        "str_6 = input(\"Enter the string 2: \")\n",
        "l2 = [i for i in str_5.lower()]\n",
        "l3 = [i for i in str_6.lower()]\n",
        "l2.sort()\n",
        "l3.sort()\n",
        "if l2 == l3:\n",
        "  print(\"Strings are anagram\")\n",
        "else:\n",
        "  print(\"Strings are not anagram\")"
      ],
      "metadata": {
        "colab": {
          "base_uri": "https://localhost:8080/"
        },
        "id": "Z9eGO1HuJlMj",
        "outputId": "8f1d99a7-c6cb-4ca7-c226-9c2d5ac3344a"
      },
      "execution_count": null,
      "outputs": [
        {
          "output_type": "stream",
          "name": "stdout",
          "text": [
            "Enter the string 1: A decimal point\n",
            "Enter the string 2: I'm a dot in place\n",
            "Strings are not anagram\n"
          ]
        }
      ]
    },
    {
      "cell_type": "markdown",
      "source": [
        "**Que 5**"
      ],
      "metadata": {
        "id": "3dVHjT8AU5Jh"
      }
    },
    {
      "cell_type": "code",
      "source": [
        "str_7 = input(\"Enter the string1: \")\n",
        "str_8 = input(\"Enter the substring: \")\n",
        "l4 = str_7.split(\" \")\n",
        "count = 0\n",
        "for  i in l4:\n",
        "  if str_8.lower() ==  i.lower():\n",
        "    count += 1\n",
        "print(\"Number of occurences are: \",count)\n"
      ],
      "metadata": {
        "id": "GjeMIpi8LR9y",
        "colab": {
          "base_uri": "https://localhost:8080/"
        },
        "outputId": "8de7767d-dbc4-4902-80b6-75e7136bd0a0"
      },
      "execution_count": null,
      "outputs": [
        {
          "output_type": "stream",
          "name": "stdout",
          "text": [
            "Enter the string1:  hello hello anuj hello\n",
            "Enter the substring: hello\n",
            "['', 'hello', 'hello', 'anuj', 'hello']\n",
            "Number of occurences are:  3\n"
          ]
        }
      ]
    },
    {
      "cell_type": "markdown",
      "source": [
        "Que 6"
      ],
      "metadata": {
        "id": "LXCdi3xCXwBC"
      }
    },
    {
      "cell_type": "code",
      "source": [
        "str_9 = input(\"Enter the string: \")\n",
        "for i in  str_9:\n",
        "  if i not in l:\n",
        "    l.append(i)\n",
        "    count += 1\n"
      ],
      "metadata": {
        "id": "iv0cRWWKXxp9"
      },
      "execution_count": null,
      "outputs": []
    },
    {
      "cell_type": "markdown",
      "source": [
        "**Que 7**"
      ],
      "metadata": {
        "id": "lp3-3wROQaVj"
      }
    },
    {
      "cell_type": "code",
      "source": [
        "unique_str = input(\"Enter the string: \")\n",
        "list_1 = []\n",
        "for i in unique_str:\n",
        "  if i not in list_1:\n",
        "    list_1.append(i)\n",
        "  else:\n",
        "    print(\"this string have  duplicate characters\")\n",
        "    break\n",
        "else:\n",
        "  print(\"this string have all unique characters\")\n",
        "\n",
        ""
      ],
      "metadata": {
        "colab": {
          "base_uri": "https://localhost:8080/"
        },
        "id": "2b1oVa6pQfcK",
        "outputId": "274468f3-f390-4b2b-87f9-08dd282f1c97"
      },
      "execution_count": 3,
      "outputs": [
        {
          "output_type": "stream",
          "name": "stdout",
          "text": [
            "Enter the string: anuj \n",
            "this is unique string\n"
          ]
        }
      ]
    },
    {
      "cell_type": "markdown",
      "source": [
        "**Que 8**"
      ],
      "metadata": {
        "id": "gn0BkL0-gMzR"
      }
    },
    {
      "cell_type": "code",
      "source": [
        "given_str = input(\"Enter the string: \")\n",
        "print(given_str.lower())"
      ],
      "metadata": {
        "colab": {
          "base_uri": "https://localhost:8080/"
        },
        "id": "FqTreIUAgP0y",
        "outputId": "cef4cfd3-2ba0-47e8-e1c3-2d6d208a461b"
      },
      "execution_count": 4,
      "outputs": [
        {
          "output_type": "stream",
          "name": "stdout",
          "text": [
            "Enter the string: ANUJ KURMI\n",
            "anuj kurmi\n"
          ]
        }
      ]
    },
    {
      "cell_type": "markdown",
      "source": [
        "**Que 9**"
      ],
      "metadata": {
        "id": "BzoE_S03gl0o"
      }
    },
    {
      "cell_type": "code",
      "source": [
        "str_10 = input(\"Enter the string: \")\n",
        "print(len(str_10))"
      ],
      "metadata": {
        "colab": {
          "base_uri": "https://localhost:8080/"
        },
        "id": "xgoBnOksgomS",
        "outputId": "3dffee84-88b4-4a2a-f2fd-d34dba09c818"
      },
      "execution_count": 6,
      "outputs": [
        {
          "output_type": "stream",
          "name": "stdout",
          "text": [
            "Enter the string: anuj\n",
            "4\n"
          ]
        }
      ]
    },
    {
      "cell_type": "markdown",
      "source": [
        "**Que 10**"
      ],
      "metadata": {
        "id": "uIXX_eD5g7ZQ"
      }
    },
    {
      "cell_type": "code",
      "source": [
        "str_one = input(\"Enter the string1: \")\n",
        "str_two = input(\"Enter the string2: \")\n",
        "concat_str = \"\".join([str_one, str_two])\n",
        "print(concat_str)"
      ],
      "metadata": {
        "colab": {
          "base_uri": "https://localhost:8080/"
        },
        "id": "hmzkihU0g_Qy",
        "outputId": "2d4f1cfd-7b7b-4de2-b58f-6be169c41a64"
      },
      "execution_count": 7,
      "outputs": [
        {
          "output_type": "stream",
          "name": "stdout",
          "text": [
            "Enter the string1: anuj \n",
            "Enter the string2: kurmi\n",
            "anuj kurmi\n"
          ]
        }
      ]
    },
    {
      "cell_type": "markdown",
      "source": [
        "**Que 11**"
      ],
      "metadata": {
        "id": "H2vkFzZBip6g"
      }
    },
    {
      "cell_type": "code",
      "source": [
        "list1 = ['a', 'a', 'b','c','d','d']\n",
        "dict1 = {}\n",
        "for i in list1:\n",
        "  if i not in dict1:\n",
        "    dict1[i] = 1\n",
        "  else:\n",
        "    dict1[i] += 1\n",
        "for  i,j in dict1.items():\n",
        "  if j ==1:\n",
        "    list1.remove(i)\n",
        "print(list1)"
      ],
      "metadata": {
        "colab": {
          "base_uri": "https://localhost:8080/"
        },
        "id": "ODDAVet3isfn",
        "outputId": "8dda2ff9-cad3-481d-b212-6127fcb65eb3"
      },
      "execution_count": 14,
      "outputs": [
        {
          "output_type": "stream",
          "name": "stdout",
          "text": [
            "['a', 'a', 'd', 'd']\n"
          ]
        }
      ]
    },
    {
      "cell_type": "markdown",
      "source": [
        "**Que 12**"
      ],
      "metadata": {
        "id": "ZgdZqRhvy5Ow"
      }
    },
    {
      "cell_type": "code",
      "source": [
        "list2 = [3, 4,8,7,6,2,1]\n",
        "s = set(list2)\n",
        "list3 = list(s)\n",
        "list3.sort()\n",
        "\n",
        "print(list3[-2])"
      ],
      "metadata": {
        "colab": {
          "base_uri": "https://localhost:8080/"
        },
        "id": "YCIF5AbSi21t",
        "outputId": "5034241a-36ca-4884-b720-1233c7ec185b"
      },
      "execution_count": 18,
      "outputs": [
        {
          "output_type": "stream",
          "name": "stdout",
          "text": [
            "7\n"
          ]
        }
      ]
    },
    {
      "cell_type": "markdown",
      "source": [
        "Que 13"
      ],
      "metadata": {
        "id": "ZMKSSClu0KEA"
      }
    },
    {
      "cell_type": "code",
      "source": [
        "given_list = ['a', 'a', 'b','c','d','d']\n",
        "dict2 = {}\n",
        "for i in given_list:\n",
        "  if i not in dict2:\n",
        "    dict2[i] = 1\n",
        "  else:\n",
        "    dict2[i] += 1\n",
        "print(dict2)"
      ],
      "metadata": {
        "colab": {
          "base_uri": "https://localhost:8080/"
        },
        "id": "-BKZ7Qu00L31",
        "outputId": "bd8998dd-eac9-43e4-aec8-759e5c50a637"
      },
      "execution_count": 22,
      "outputs": [
        {
          "output_type": "stream",
          "name": "stdout",
          "text": [
            "{'a': 2, 'b': 1, 'c': 1, 'd': 2}\n"
          ]
        }
      ]
    },
    {
      "cell_type": "markdown",
      "source": [
        "**Qure 14**"
      ],
      "metadata": {
        "id": "7WbNKjLu0yTQ"
      }
    },
    {
      "cell_type": "code",
      "source": [
        "list4 = [1,5,4,8,9]\n",
        "l = []\n",
        "for i in range(0,len(list4)):\n",
        "  l.append(list4[~i])\n",
        "print(l)"
      ],
      "metadata": {
        "colab": {
          "base_uri": "https://localhost:8080/"
        },
        "id": "CCFYvXLP0Ppz",
        "outputId": "75aeeb31-7fe4-47fc-e65a-4442023d410e"
      },
      "execution_count": 30,
      "outputs": [
        {
          "output_type": "stream",
          "name": "stdout",
          "text": [
            "[9, 8, 4, 5, 1]\n"
          ]
        }
      ]
    },
    {
      "cell_type": "markdown",
      "source": [
        "**que 15**"
      ],
      "metadata": {
        "id": "plVk9-Ng3Aue"
      }
    },
    {
      "cell_type": "code",
      "source": [
        "given_list1 = ['a', 'a', 'b','c','d','d']\n",
        "l_2 = []\n",
        "for i in given_list1:\n",
        "  if i not in l_2:\n",
        "    l_2.append(i)\n",
        "print(l_2)"
      ],
      "metadata": {
        "colab": {
          "base_uri": "https://localhost:8080/"
        },
        "id": "cb6COJWJ3DBJ",
        "outputId": "cddbc434-1abb-45f6-a61b-991620dcc0ef"
      },
      "execution_count": 31,
      "outputs": [
        {
          "output_type": "stream",
          "name": "stdout",
          "text": [
            "['a', 'b', 'c', 'd']\n"
          ]
        }
      ]
    }
  ]
}