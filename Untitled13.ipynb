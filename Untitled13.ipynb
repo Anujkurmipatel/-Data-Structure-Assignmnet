{
  "nbformat": 4,
  "nbformat_minor": 0,
  "metadata": {
    "colab": {
      "provenance": [],
      "authorship_tag": "ABX9TyOkJBQZ69rIbwxlaKvRZT2D",
      "include_colab_link": true
    },
    "kernelspec": {
      "name": "python3",
      "display_name": "Python 3"
    },
    "language_info": {
      "name": "python"
    }
  },
  "cells": [
    {
      "cell_type": "markdown",
      "metadata": {
        "id": "view-in-github",
        "colab_type": "text"
      },
      "source": [
        "<a href=\"https://colab.research.google.com/github/Anujkurmipatel/-Data-Structure-Assignmnet/blob/main/Untitled13.ipynb\" target=\"_parent\"><img src=\"https://colab.research.google.com/assets/colab-badge.svg\" alt=\"Open In Colab\"/></a>"
      ]
    },
    {
      "cell_type": "markdown",
      "source": [
        "**Que1**"
      ],
      "metadata": {
        "id": "gT59zjTwGuDo"
      }
    },
    {
      "cell_type": "code",
      "execution_count": null,
      "metadata": {
        "colab": {
          "base_uri": "https://localhost:8080/"
        },
        "id": "ZPKNtB_vGl8n",
        "outputId": "3537bb80-15b0-4d4c-a77c-f67740ff9ad8"
      },
      "outputs": [
        {
          "output_type": "stream",
          "name": "stdout",
          "text": [
            "Enter the string: anuj kurmi\n",
            "imruk juna\n"
          ]
        }
      ],
      "source": [
        "str_1 = input(\"Enter the string: \")\n",
        "print(str_1[::-1])"
      ]
    },
    {
      "cell_type": "markdown",
      "source": [
        "**que2**"
      ],
      "metadata": {
        "id": "Mme-nojaHen4"
      }
    },
    {
      "cell_type": "code",
      "source": [
        "l1 = ['a','e','i','o','u','A','E','I','O','U']\n",
        "str_2 = input(\"Enter the string: \")\n",
        "count = 0\n",
        "for i in str_2:\n",
        "  if i in l1:\n",
        "    count += 1\n",
        "print(\"Number of vowels are: \",count)"
      ],
      "metadata": {
        "colab": {
          "base_uri": "https://localhost:8080/"
        },
        "id": "qgXRYH3OHg2w",
        "outputId": "1cc5d937-8454-4605-bf11-82557145174a"
      },
      "execution_count": null,
      "outputs": [
        {
          "output_type": "stream",
          "name": "stdout",
          "text": [
            "Enter the string: anuj kurmi\n",
            "Number of vowels are:  4\n"
          ]
        }
      ]
    },
    {
      "cell_type": "markdown",
      "source": [
        "**Que 3**"
      ],
      "metadata": {
        "id": "nny-0aIHIK0x"
      }
    },
    {
      "cell_type": "code",
      "source": [
        "str_3 = input(\"Enter the string 1: \")\n",
        "str_4 = str_3[::-1]\n",
        "if str_3 == str_4:\n",
        "  print(\"Strings are palindrome\")\n",
        "else:\n",
        "  print(\"Strings are not palindrome\")"
      ],
      "metadata": {
        "colab": {
          "base_uri": "https://localhost:8080/"
        },
        "id": "Ar5lTagwIOB2",
        "outputId": "e3ee9eec-63f0-4c24-abe6-8554fd18e867"
      },
      "execution_count": null,
      "outputs": [
        {
          "output_type": "stream",
          "name": "stdout",
          "text": [
            "Enter the string 1: aba\n",
            "Strings are palindrome\n"
          ]
        }
      ]
    },
    {
      "cell_type": "markdown",
      "source": [
        "Que 4"
      ],
      "metadata": {
        "id": "DIB0pQClJjdZ"
      }
    },
    {
      "cell_type": "code",
      "source": [
        "str_5 = input(\"Enter the string 1: \")\n",
        "str_6 = input(\"Enter the string 2: \")\n",
        "l2 = [i for i in str_5.lower()]\n",
        "l3 = [i for i in str_6.lower()]\n",
        "l2.sort()\n",
        "l3.sort()\n",
        "if l2 == l3:\n",
        "  print(\"Strings are anagram\")\n",
        "else:\n",
        "  print(\"Strings are not anagram\")"
      ],
      "metadata": {
        "colab": {
          "base_uri": "https://localhost:8080/"
        },
        "id": "Z9eGO1HuJlMj",
        "outputId": "8f1d99a7-c6cb-4ca7-c226-9c2d5ac3344a"
      },
      "execution_count": null,
      "outputs": [
        {
          "output_type": "stream",
          "name": "stdout",
          "text": [
            "Enter the string 1: A decimal point\n",
            "Enter the string 2: I'm a dot in place\n",
            "Strings are not anagram\n"
          ]
        }
      ]
    },
    {
      "cell_type": "markdown",
      "source": [
        "**Que 5**"
      ],
      "metadata": {
        "id": "3dVHjT8AU5Jh"
      }
    },
    {
      "cell_type": "code",
      "source": [
        "str_7 = input(\"Enter the string1: \")\n",
        "str_8 = input(\"Enter the substring: \")\n",
        "l4 = str_7.split(\" \")\n",
        "count = 0\n",
        "for  i in l4:\n",
        "  if str_8.lower() ==  i.lower():\n",
        "    count += 1\n",
        "print(\"Number of occurences are: \",count)\n"
      ],
      "metadata": {
        "id": "GjeMIpi8LR9y",
        "colab": {
          "base_uri": "https://localhost:8080/"
        },
        "outputId": "8de7767d-dbc4-4902-80b6-75e7136bd0a0"
      },
      "execution_count": null,
      "outputs": [
        {
          "output_type": "stream",
          "name": "stdout",
          "text": [
            "Enter the string1:  hello hello anuj hello\n",
            "Enter the substring: hello\n",
            "['', 'hello', 'hello', 'anuj', 'hello']\n",
            "Number of occurences are:  3\n"
          ]
        }
      ]
    },
    {
      "cell_type": "markdown",
      "source": [
        "Que 6"
      ],
      "metadata": {
        "id": "LXCdi3xCXwBC"
      }
    },
    {
      "cell_type": "code",
      "source": [
        "str_9 = input(\"Enter the string: \")\n",
        "for i in  str_9:\n",
        "  if i not in l:\n",
        "    l.append(i)\n",
        "    count += 1\n"
      ],
      "metadata": {
        "id": "iv0cRWWKXxp9"
      },
      "execution_count": null,
      "outputs": []
    }
  ]
}